{
 "cells": [
  {
   "cell_type": "code",
   "execution_count": 1,
   "id": "4f17b6c9",
   "metadata": {},
   "outputs": [],
   "source": [
    "# Import required libraries\n",
    "import os\n",
    "import glob\n",
    "import json\n",
    "\n",
    "# Initialize dictionary\n",
    "fileDict = {\"CIA\":{}, \"DIA\":{}, \"FBI\":{}, \"NSA\":{}, \"USCBP\":{}}\n",
    "\n",
    "# Iterate through files, if not correct file (.txt extension) then skip, otherwise add to correct location in dictionary\n",
    "for infile in glob.glob(os.path.join(\"./dataset\", '*')):\n",
    "    if(infile.endswith(\".txt\")):\n",
    "        continue\n",
    "    review_file = open(infile,'r').read()\n",
    "    subKey = infile.split(\"/\")[-1]\n",
    "    mainKey = subKey.split(\"_\")[0]\n",
    "    fileDict[mainKey][subKey] = review_file\n",
    "\n",
    "# Export dictionary to json file\n",
    "with open('CIS569data.json', 'w') as fp:\n",
    "    json.dump(fileDict, fp)\n"
   ]
  }
 ],
 "metadata": {
  "kernelspec": {
   "display_name": "Python 3 (ipykernel)",
   "language": "python",
   "name": "python3"
  },
  "language_info": {
   "codemirror_mode": {
    "name": "ipython",
    "version": 3
   },
   "file_extension": ".py",
   "mimetype": "text/x-python",
   "name": "python",
   "nbconvert_exporter": "python",
   "pygments_lexer": "ipython3",
   "version": "3.8.13"
  }
 },
 "nbformat": 4,
 "nbformat_minor": 5
}
