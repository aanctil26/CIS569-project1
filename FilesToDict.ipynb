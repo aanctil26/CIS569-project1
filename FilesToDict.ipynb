{
 "cells": [
  {
   "cell_type": "code",
   "execution_count": 1,
   "id": "4f17b6c9",
   "metadata": {},
   "outputs": [],
   "source": [
    "import os\n",
    "import glob\n",
    "import json\n",
    "\n",
    "fileDict = {\"CIA\":{}, \"DIA\":{}, \"FBI\":{}, \"NSA\":{}, \"USCBP\":{}}\n",
    "for infile in glob.glob(os.path.join(\"./dataset\", '*')):\n",
    "    if(infile.endswith(\".txt\")):\n",
    "        continue\n",
    "    review_file = open(infile,'r').read()\n",
    "    subKey = infile.split(\"/\")[-1]\n",
    "    mainKey = subKey.split(\"_\")[0]\n",
    "    fileDict[mainKey][subKey] = review_file\n",
    "\n",
    "with open('CIS569data.json', 'w') as fp:\n",
    "    json.dump(fileDict, fp)"
   ]
  }
 ],
 "metadata": {
  "kernelspec": {
   "display_name": "Python 3 (ipykernel)",
   "language": "python",
   "name": "python3"
  },
  "language_info": {
   "codemirror_mode": {
    "name": "ipython",
    "version": 3
   },
   "file_extension": ".py",
   "mimetype": "text/x-python",
   "name": "python",
   "nbconvert_exporter": "python",
   "pygments_lexer": "ipython3",
   "version": "3.8.13"
  }
 },
 "nbformat": 4,
 "nbformat_minor": 5
}
